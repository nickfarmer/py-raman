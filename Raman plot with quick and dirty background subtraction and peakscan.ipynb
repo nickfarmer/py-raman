{
 "cells": [
  {
   "cell_type": "markdown",
   "metadata": {},
   "source": [
    "Quick and dirty script to plot Raman spectra from the txt output from the Renishaw WiRE software, with a linear background subtraction and a basic peak scan (using peakutils)."
   ]
  },
  {
   "cell_type": "code",
   "execution_count": 1,
   "metadata": {},
   "outputs": [],
   "source": [
    "import matplotlib.pyplot as plt\n",
    "import pandas as pd\n",
    "import peakutils as pk\n",
    "import numpy as np"
   ]
  },
  {
   "cell_type": "markdown",
   "metadata": {},
   "source": [
    "Set path and filename of Raman spectrum, and read the data to a pandas dataframe. Headings in the text file with spurious #'s are replaced."
   ]
  },
  {
   "cell_type": "code",
   "execution_count": 2,
   "metadata": {},
   "outputs": [],
   "source": [
    "filename=\"~/Nextcloud/Documents/Raman/raman_20180327/D2651_1.txt\"\n",
    "# read raman spectrum in to pandas dataframe\n",
    "rspec=pd.read_csv(filename, sep='\\s+')\n",
    "# change column names to not have hash in them\n",
    "rspec.columns=['Wavelength','Intensity']"
   ]
  },
  {
   "cell_type": "markdown",
   "metadata": {},
   "source": [
    "An extremely basic background correction is applied by taking minima from the first and last 10 datapoints, and fitting a background as a line between these two points. This only works for spectra with simple, sloping backgrounds."
   ]
  },
  {
   "cell_type": "code",
   "execution_count": 3,
   "metadata": {},
   "outputs": [],
   "source": [
    "# Extremely basic background subtraction\n",
    "# find minima at upper and lower ends of range\n",
    "minlow=min(rspec.Intensity[0:10])\n",
    "minhigh=min(rspec.Intensity[len(rspec)-10:len(rspec)])\n",
    "    \n",
    "# simple linear background\n",
    "diffbg=minhigh-minlow\n",
    "gradbg=diffbg/len(rspec)\n",
    "\n",
    "bg=[]\n",
    "bg=np.array(bg)\n",
    "    \n",
    "for i in range(0,len(rspec)):\n",
    "    bg=np.append(bg, minlow+i*gradbg)\n",
    "    \n",
    "# subtract background from data\n",
    "rspec.Intensity=rspec.Intensity-bg"
   ]
  },
  {
   "cell_type": "markdown",
   "metadata": {},
   "source": [
    "Quick peak search using peakutils. Tweak the threshold and min_dist as necessary. Fitting peaks to a Gaussian using lmfit would be a more thorough way of doing this."
   ]
  },
  {
   "cell_type": "code",
   "execution_count": 4,
   "metadata": {},
   "outputs": [],
   "source": [
    "indexes=pk.indexes(rspec.Intensity, thres=0.2, min_dist=5)"
   ]
  },
  {
   "cell_type": "markdown",
   "metadata": {},
   "source": [
    "Plot spectrum and peak positions."
   ]
  },
  {
   "cell_type": "code",
   "execution_count": 5,
   "metadata": {},
   "outputs": [
    {
     "data": {
      "text/plain": [
       "Text(0,0.5,'Intensity')"
      ]
     },
     "execution_count": 5,
     "metadata": {},
     "output_type": "execute_result"
    },
    {
     "data": {
      "image/png": "[encoded data removed]",
      "text/plain": [
       "<Figure size 432x288 with 1 Axes>"
      ]
     },
     "metadata": {},
     "output_type": "display_data"
    }
   ],
   "source": [
    "plt.figure()\n",
    "plt.plot(rspec.Wavelength,rspec.Intensity)\n",
    "plt.plot(rspec.Wavelength[indexes],rspec.Intensity[indexes], 'ro')\n",
    "plt.xlabel(\"Raman shift (cm$^{-1}$)\")\n",
    "plt.ylabel(\"Intensity\")"
   ]
  },
  {
   "cell_type": "markdown",
   "metadata": {},
   "source": [
    "Print wavelengths of peaks (from right to left)."
   ]
  },
  {
   "cell_type": "code",
   "execution_count": 6,
   "metadata": {},
   "outputs": [
    {
     "name": "stdout",
     "output_type": "stream",
     "text": [
      "Peak 1 : 849.40625 82704.54078463055\n",
      "Peak 2 : 809.2324219999999 38194.103977138904\n"
     ]
    }
   ],
   "source": [
    "for i in range(0,len(indexes)):\n",
    "    print(\"Peak\", i+1, \":\", rspec.Wavelength[indexes[i]],rspec.Intensity[indexes[i]])"
   ]
  }
 ],
 "metadata": {
  "kernelspec": {
   "display_name": "Python 3",
   "language": "python",
   "name": "python3"
  },
  "language_info": {
   "codemirror_mode": {
    "name": "ipython",
    "version": 3
   },
   "file_extension": ".py",
   "mimetype": "text/x-python",
   "name": "python",
   "nbconvert_exporter": "python",
   "pygments_lexer": "ipython3",
   "version": "3.6.4"
  }
 },
 "nbformat": 4,
 "nbformat_minor": 2
}
